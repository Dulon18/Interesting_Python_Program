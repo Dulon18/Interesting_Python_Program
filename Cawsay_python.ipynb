{
  "nbformat": 4,
  "nbformat_minor": 0,
  "metadata": {
    "colab": {
      "name": "Cawsay_python.ipynb",
      "provenance": [],
      "authorship_tag": "ABX9TyOeOUAuzzYcijp4Godg05Df",
      "include_colab_link": true
    },
    "kernelspec": {
      "name": "python3",
      "display_name": "Python 3"
    },
    "language_info": {
      "name": "python"
    }
  },
  "cells": [
    {
      "cell_type": "markdown",
      "metadata": {
        "id": "view-in-github",
        "colab_type": "text"
      },
      "source": [
        "<a href=\"https://colab.research.google.com/github/Dulon18/Interesting_Python_Program/blob/main/Cawsay_python.ipynb\" target=\"_parent\"><img src=\"https://colab.research.google.com/assets/colab-badge.svg\" alt=\"Open In Colab\"/></a>"
      ]
    },
    {
      "cell_type": "code",
      "metadata": {
        "colab": {
          "base_uri": "https://localhost:8080/"
        },
        "id": "IGUxBYxmLrnn",
        "outputId": "a14fe23e-6575-4a61-bb1a-ffefa4380712"
      },
      "source": [
        "!pip install cowsay"
      ],
      "execution_count": 1,
      "outputs": [
        {
          "output_type": "stream",
          "name": "stdout",
          "text": [
            "Collecting cowsay\n",
            "  Downloading cowsay-4.0-py2.py3-none-any.whl (24 kB)\n",
            "Installing collected packages: cowsay\n",
            "Successfully installed cowsay-4.0\n"
          ]
        }
      ]
    },
    {
      "cell_type": "code",
      "metadata": {
        "colab": {
          "base_uri": "https://localhost:8080/"
        },
        "id": "e-7EyYAqMKwA",
        "outputId": "2ad47d1d-2b62-4813-df70-6021c6ce6ee9"
      },
      "source": [
        "import cowsay\n",
        "cowsay.ghostbusters('Hi')"
      ],
      "execution_count": 2,
      "outputs": [
        {
          "output_type": "stream",
          "name": "stdout",
          "text": [
            "  __\n",
            "| Hi |\n",
            "  ==\n",
            "          \\\n",
            "           \\\n",
            "            \\\n",
            "             \\\n",
            "                         __---__\n",
            "                      _-       /--______\n",
            "                 __--( /     \\ )XXXXXXXXXXX\\v.\n",
            "               .-XXX(   O   O  )XXXXXXXXXXXXXXX-\n",
            "              /XXX(       U     )        XXXXXXX\\\n",
            "            /XXXXX(              )--_  XXXXXXXXXXX\\\n",
            "           /XXXXX/ (      O     )   XXXXXX   \\XXXXX\\\n",
            "           XXXXX/   /            XXXXXX   \\__ \\XXXXX\n",
            "           XXXXXX__/          XXXXXX         \\__---->\n",
            "   ---___  XXX__/          XXXXXX      \\__         /\n",
            "     \\-  --__/   ___/\\  XXXXXX            /  ___--/=\n",
            "      \\-\\    ___/    XXXXXX              '--- XXXXXX\n",
            "         \\-\\/XXX\\ XXXXXX                      /XXXXX\n",
            "           \\XXXXXXXXX   \\                    /XXXXX/\n",
            "            \\XXXXXX      >                 _/XXXXX/\n",
            "              \\XXXXX--__/              __-- XXXX/\n",
            "               -XXXXXXXX---------------  XXXXXX-\n",
            "                  \\XXXXXXXXXXXXXXXXXXXXXXXXXX/\n",
            "                    \"\"VXXXXXXXXXXXXXXXXXXV\"\"\n"
          ]
        }
      ]
    },
    {
      "cell_type": "code",
      "metadata": {
        "colab": {
          "base_uri": "https://localhost:8080/"
        },
        "id": "sw942k8LMOf3",
        "outputId": "daf51068-c892-4452-d6ee-569ad9bfb8c4"
      },
      "source": [
        "cowsay.dragon(\"Hello draagonnn\")"
      ],
      "execution_count": 3,
      "outputs": [
        {
          "output_type": "stream",
          "name": "stdout",
          "text": [
            "  _______________\n",
            "| Hello draagonnn |\n",
            "  ===============\n",
            "                 \\\n",
            "                  \\\n",
            "                   \\\n",
            "                    \\\n",
            "                                          / \\\\  //\\\\\n",
            "                           |\\\\___/|      /   \\\\//  \\\\\\\\\n",
            "                           /0  0  \\\\__  /    //  | \\\\ \\\\\n",
            "                          /     /  \\\\/_/    //   |  \\\\  \\\\\n",
            "                          \\@_^_\\@'/   \\\\/_   //    |   \\\\   \\\\\n",
            "                          //_^_/     \\\\/_ //     |    \\\\    \\\\\n",
            "                       ( //) |        \\\\///      |     \\\\     \\\\\n",
            "                     ( / /) _|_ /   )  //       |      \\\\     _\\\\\n",
            "                   ( // /) '/,_ _ _/  ( ; -.    |    _ _\\\\.-~        .-~~~^-.\n",
            "                 (( / / )) ,-{        _      `-.|.-~-.           .~         `.\n",
            "                (( // / ))  '/\\\\      /                 ~-. _ .-~      .-~^-.  \\\\\n",
            "                (( /// ))      `.   {            }                   /      \\\\  \\\\\n",
            "                 (( / ))     .----~-.\\\\        \\\\-'                 .~         \\\\  `. \\\\^-.\n",
            "                            ///.----..>        \\\\             _ -~             `.  ^-`  ^-_\n",
            "                              ///-._ _ _ _ _ _ _}^ - - - - ~                     ~-- ,.-~\n",
            "                                                                                 /.-~\n"
          ]
        }
      ]
    },
    {
      "cell_type": "code",
      "metadata": {
        "colab": {
          "base_uri": "https://localhost:8080/"
        },
        "id": "nbsNQ7mdMRFX",
        "outputId": "f58b508b-779a-47c2-d0ac-0ba2242f55c8"
      },
      "source": [
        "cowsay.kitty(\"hello ... kitty\")"
      ],
      "execution_count": 5,
      "outputs": [
        {
          "output_type": "stream",
          "name": "stdout",
          "text": [
            "  _______________\n",
            "| hello ... kitty |\n",
            "  ===============\n",
            "                  \\\n",
            "                   \\\n",
            "                    \\\n",
            "                     \\\n",
            "                 \n",
            "                      (\"`-'  '-/\") .___..--' ' \"`-._\n",
            "                          ` *_ *  )    `-.   (      ) .`-.__. `)\n",
            "                          (_Y_.) ' ._   )   `._` ;  `` -. .-'\n",
            "                       _.. `--'_..-_/   /--' _ .' ,4\n",
            "                    ( i l ),-''  ( l i),'  ( ( ! .-'\n"
          ]
        }
      ]
    },
    {
      "cell_type": "code",
      "metadata": {
        "colab": {
          "base_uri": "https://localhost:8080/"
        },
        "id": "Q9jjHVQLMTXf",
        "outputId": "d597f807-fe50-4bd8-c8e5-1bf30feb2e8d"
      },
      "source": [
        "cowsay.daemon(\"hello ... daemon\")"
      ],
      "execution_count": 4,
      "outputs": [
        {
          "output_type": "stream",
          "name": "stdout",
          "text": [
            "  ________________\n",
            "| hello ... daemon |\n",
            "  ================\n",
            "                        \\\n",
            "                         \\\n",
            "                          \\\n",
            "                           \\\n",
            "                            /- _  `-/  '\n",
            "                           (/\\/ \\ \\   /\\\n",
            "                           / /   | `    \\\n",
            "                           O O   ) /    |\n",
            "                           `-^--'`<     '\n",
            "                          (_.)  _  )   /\n",
            "                           `.___/`    /\n",
            "                             `-----' /\n",
            "                <----.     __ / __   \\\n",
            "                <----|====O)))==) \\) /====\n",
            "                <----'    `--' `.__,' \\\n",
            "                             |        |\n",
            "                              \\       /\n",
            "                        ______( (_  / \\______\n",
            "                      ,'  ,-----'   |        \\\n",
            "                      `--{__________)        \\/\n"
          ]
        }
      ]
    },
    {
      "cell_type": "code",
      "metadata": {
        "colab": {
          "base_uri": "https://localhost:8080/"
        },
        "id": "LDVE74StMljA",
        "outputId": "f552dcc9-e566-43e0-b490-c55ae3944263"
      },
      "source": [
        "cowsay.turtle(\"hello...turtle\")"
      ],
      "execution_count": 6,
      "outputs": [
        {
          "output_type": "stream",
          "name": "stdout",
          "text": [
            "  ______________\n",
            "| hello...turtle |\n",
            "  ==============\n",
            "                      \\\n",
            "                       \\\n",
            "                        \\\n",
            "                         \\\n",
            "                                                             ___-------___\n",
            "                                                         _-~~             ~~-_\n",
            "                                                      _-~                    /~-_\n",
            "                           /^\\__/^\\         /~  \\                   /    \\\n",
            "                         /|  O|| O|        /      \\_______________/        \\\n",
            "                        | |___||__|      /       /                \\          \\\n",
            "                        |          \\    /      /                    \\          \\\n",
            "                        |   (_______) /______/                        \\_________ \\\n",
            "                        |         / /         \\                      /            \\\n",
            "                         \\         \\^\\\\         \\                  /               \\     /\n",
            "                           \\         ||           \\______________/      _-_       //\\__//\n",
            "                             \\       ||------_-~~-_ ------------- \\ --/~   ~\\    || __/\n",
            "                               ~-----||====/~     |==================|       |/~~~~~\n",
            "                                (_(__/  ./     /                    \\_\\      \\.\n",
            "                                       (_(___/                         \\_____)_)\n"
          ]
        }
      ]
    },
    {
      "cell_type": "code",
      "metadata": {
        "colab": {
          "base_uri": "https://localhost:8080/"
        },
        "id": "GxEaotqAMwAI",
        "outputId": "29f354b1-3c07-4b1a-d82a-ee4643769997"
      },
      "source": [
        "cowsay.tux(\"hello...tux\")"
      ],
      "execution_count": 7,
      "outputs": [
        {
          "output_type": "stream",
          "name": "stdout",
          "text": [
            "  ___________\n",
            "| hello...tux |\n",
            "  ===========\n",
            "                \\\n",
            "                 \\\n",
            "                  \\\n",
            "                   .--.\n",
            "                  |o_o |\n",
            "                  |:_/ |\n",
            "                 //   \\ \\\n",
            "                (|     | )\n",
            "               /'\\_   _/`\\\n",
            "               \\___)=(___/\n"
          ]
        }
      ]
    }
  ]
}