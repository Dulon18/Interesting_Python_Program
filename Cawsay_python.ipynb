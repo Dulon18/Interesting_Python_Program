{
  "nbformat": 4,
  "nbformat_minor": 0,
  "metadata": {
    "colab": {
      "name": "Cawsay_python.ipynb",
      "provenance": [],
      "authorship_tag": "ABX9TyPw2K9n/XLMdW8NQn9Sn3R5",
      "include_colab_link": true
    },
    "kernelspec": {
      "name": "python3",
      "display_name": "Python 3"
    },
    "language_info": {
      "name": "python"
    }
  },
  "cells": [
    {
      "cell_type": "markdown",
      "metadata": {
        "id": "view-in-github",
        "colab_type": "text"
      },
      "source": [
        "<a href=\"https://colab.research.google.com/github/Dulon18/Interesting_Python_Program/blob/main/Cawsay_python.ipynb\" target=\"_parent\"><img src=\"https://colab.research.google.com/assets/colab-badge.svg\" alt=\"Open In Colab\"/></a>"
      ]
    },
    {
      "cell_type": "code",
      "metadata": {
        "colab": {
          "base_uri": "https://localhost:8080/"
        },
        "id": "IGUxBYxmLrnn",
        "outputId": "3df755b2-59d4-4d9d-acdf-ed68bc5e668c"
      },
      "source": [
        "!pip install cowsay"
      ],
      "execution_count": 8,
      "outputs": [
        {
          "output_type": "stream",
          "name": "stdout",
          "text": [
            "Requirement already satisfied: cowsay in /usr/local/lib/python3.7/dist-packages (4.0)\n"
          ]
        }
      ]
    },
    {
      "cell_type": "code",
      "metadata": {
        "colab": {
          "base_uri": "https://localhost:8080/"
        },
        "id": "e-7EyYAqMKwA",
        "outputId": "a5c308c2-4e07-4cee-f53c-fa5b6f8ff93a"
      },
      "source": [
        "import cowsay\n",
        "cowsay.ghostbusters('Hi')"
      ],
      "execution_count": 9,
      "outputs": [
        {
          "output_type": "stream",
          "name": "stdout",
          "text": [
            "  __\n",
            "| Hi |\n",
            "  ==\n",
            "          \\\n",
            "           \\\n",
            "            \\\n",
            "             \\\n",
            "                         __---__\n",
            "                      _-       /--______\n",
            "                 __--( /     \\ )XXXXXXXXXXX\\v.\n",
            "               .-XXX(   O   O  )XXXXXXXXXXXXXXX-\n",
            "              /XXX(       U     )        XXXXXXX\\\n",
            "            /XXXXX(              )--_  XXXXXXXXXXX\\\n",
            "           /XXXXX/ (      O     )   XXXXXX   \\XXXXX\\\n",
            "           XXXXX/   /            XXXXXX   \\__ \\XXXXX\n",
            "           XXXXXX__/          XXXXXX         \\__---->\n",
            "   ---___  XXX__/          XXXXXX      \\__         /\n",
            "     \\-  --__/   ___/\\  XXXXXX            /  ___--/=\n",
            "      \\-\\    ___/    XXXXXX              '--- XXXXXX\n",
            "         \\-\\/XXX\\ XXXXXX                      /XXXXX\n",
            "           \\XXXXXXXXX   \\                    /XXXXX/\n",
            "            \\XXXXXX      >                 _/XXXXX/\n",
            "              \\XXXXX--__/              __-- XXXX/\n",
            "               -XXXXXXXX---------------  XXXXXX-\n",
            "                  \\XXXXXXXXXXXXXXXXXXXXXXXXXX/\n",
            "                    \"\"VXXXXXXXXXXXXXXXXXXV\"\"\n"
          ]
        }
      ]
    },
    {
      "cell_type": "code",
      "metadata": {
        "colab": {
          "base_uri": "https://localhost:8080/"
        },
        "id": "sw942k8LMOf3",
        "outputId": "3f950032-e102-4709-d934-0054c401d731"
      },
      "source": [
        "cowsay.dragon(\"Hello... i am draagonnn\")"
      ],
      "execution_count": 10,
      "outputs": [
        {
          "output_type": "stream",
          "name": "stdout",
          "text": [
            "  _______________________\n",
            "| Hello... i am draagonnn |\n",
            "  =======================\n",
            "                         \\\n",
            "                          \\\n",
            "                           \\\n",
            "                            \\\n",
            "                                                  / \\\\  //\\\\\n",
            "                                   |\\\\___/|      /   \\\\//  \\\\\\\\\n",
            "                                   /0  0  \\\\__  /    //  | \\\\ \\\\\n",
            "                                  /     /  \\\\/_/    //   |  \\\\  \\\\\n",
            "                                  \\@_^_\\@'/   \\\\/_   //    |   \\\\   \\\\\n",
            "                                  //_^_/     \\\\/_ //     |    \\\\    \\\\\n",
            "                               ( //) |        \\\\///      |     \\\\     \\\\\n",
            "                             ( / /) _|_ /   )  //       |      \\\\     _\\\\\n",
            "                           ( // /) '/,_ _ _/  ( ; -.    |    _ _\\\\.-~        .-~~~^-.\n",
            "                         (( / / )) ,-{        _      `-.|.-~-.           .~         `.\n",
            "                        (( // / ))  '/\\\\      /                 ~-. _ .-~      .-~^-.  \\\\\n",
            "                        (( /// ))      `.   {            }                   /      \\\\  \\\\\n",
            "                         (( / ))     .----~-.\\\\        \\\\-'                 .~         \\\\  `. \\\\^-.\n",
            "                                    ///.----..>        \\\\             _ -~             `.  ^-`  ^-_\n",
            "                                      ///-._ _ _ _ _ _ _}^ - - - - ~                     ~-- ,.-~\n",
            "                                                                                         /.-~\n"
          ]
        }
      ]
    },
    {
      "cell_type": "code",
      "metadata": {
        "colab": {
          "base_uri": "https://localhost:8080/"
        },
        "id": "nbsNQ7mdMRFX",
        "outputId": "79221d15-2303-4f8b-f869-b9e14e585048"
      },
      "source": [
        "cowsay.kitty(\"hello ...i am kitty\")"
      ],
      "execution_count": 11,
      "outputs": [
        {
          "output_type": "stream",
          "name": "stdout",
          "text": [
            "  ___________________\n",
            "| hello ...i am kitty |\n",
            "  ===================\n",
            "                      \\\n",
            "                       \\\n",
            "                        \\\n",
            "                         \\\n",
            "                     \n",
            "                          (\"`-'  '-/\") .___..--' ' \"`-._\n",
            "                              ` *_ *  )    `-.   (      ) .`-.__. `)\n",
            "                              (_Y_.) ' ._   )   `._` ;  `` -. .-'\n",
            "                           _.. `--'_..-_/   /--' _ .' ,4\n",
            "                        ( i l ),-''  ( l i),'  ( ( ! .-'\n"
          ]
        }
      ]
    },
    {
      "cell_type": "code",
      "metadata": {
        "colab": {
          "base_uri": "https://localhost:8080/"
        },
        "id": "Q9jjHVQLMTXf",
        "outputId": "9243ce06-7a6d-46b4-921e-3183bc763cf0"
      },
      "source": [
        "cowsay.daemon(\"hello ...i am daemon\")"
      ],
      "execution_count": 12,
      "outputs": [
        {
          "output_type": "stream",
          "name": "stdout",
          "text": [
            "  ____________________\n",
            "| hello ...i am daemon |\n",
            "  ====================\n",
            "                            \\\n",
            "                             \\\n",
            "                              \\\n",
            "                               \\\n",
            "                                /- _  `-/  '\n",
            "                               (/\\/ \\ \\   /\\\n",
            "                               / /   | `    \\\n",
            "                               O O   ) /    |\n",
            "                               `-^--'`<     '\n",
            "                              (_.)  _  )   /\n",
            "                               `.___/`    /\n",
            "                                 `-----' /\n",
            "                    <----.     __ / __   \\\n",
            "                    <----|====O)))==) \\) /====\n",
            "                    <----'    `--' `.__,' \\\n",
            "                                 |        |\n",
            "                                  \\       /\n",
            "                            ______( (_  / \\______\n",
            "                          ,'  ,-----'   |        \\\n",
            "                          `--{__________)        \\/\n"
          ]
        }
      ]
    },
    {
      "cell_type": "code",
      "metadata": {
        "colab": {
          "base_uri": "https://localhost:8080/"
        },
        "id": "LDVE74StMljA",
        "outputId": "34a6de48-77ed-4f53-907d-f4256fedb91e"
      },
      "source": [
        "cowsay.turtle(\"hello...i am turtle\")"
      ],
      "execution_count": 13,
      "outputs": [
        {
          "output_type": "stream",
          "name": "stdout",
          "text": [
            "  ___________________\n",
            "| hello...i am turtle |\n",
            "  ===================\n",
            "                           \\\n",
            "                            \\\n",
            "                             \\\n",
            "                              \\\n",
            "                                                                  ___-------___\n",
            "                                                              _-~~             ~~-_\n",
            "                                                           _-~                    /~-_\n",
            "                                /^\\__/^\\         /~  \\                   /    \\\n",
            "                              /|  O|| O|        /      \\_______________/        \\\n",
            "                             | |___||__|      /       /                \\          \\\n",
            "                             |          \\    /      /                    \\          \\\n",
            "                             |   (_______) /______/                        \\_________ \\\n",
            "                             |         / /         \\                      /            \\\n",
            "                              \\         \\^\\\\         \\                  /               \\     /\n",
            "                                \\         ||           \\______________/      _-_       //\\__//\n",
            "                                  \\       ||------_-~~-_ ------------- \\ --/~   ~\\    || __/\n",
            "                                    ~-----||====/~     |==================|       |/~~~~~\n",
            "                                     (_(__/  ./     /                    \\_\\      \\.\n",
            "                                            (_(___/                         \\_____)_)\n"
          ]
        }
      ]
    },
    {
      "cell_type": "code",
      "metadata": {
        "colab": {
          "base_uri": "https://localhost:8080/"
        },
        "id": "GxEaotqAMwAI",
        "outputId": "5a6ad536-8f94-4493-8142-880b03bd3d2d"
      },
      "source": [
        "cowsay.tux(\"hello...i am tux\")"
      ],
      "execution_count": 14,
      "outputs": [
        {
          "output_type": "stream",
          "name": "stdout",
          "text": [
            "  ________________\n",
            "| hello...i am tux |\n",
            "  ================\n",
            "                     \\\n",
            "                      \\\n",
            "                       \\\n",
            "                        .--.\n",
            "                       |o_o |\n",
            "                       |:_/ |\n",
            "                      //   \\ \\\n",
            "                     (|     | )\n",
            "                    /'\\_   _/`\\\n",
            "                    \\___)=(___/\n"
          ]
        }
      ]
    }
  ]
}